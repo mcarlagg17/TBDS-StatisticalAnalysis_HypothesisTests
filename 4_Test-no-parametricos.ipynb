{
 "cells": [
  {
   "attachments": {},
   "cell_type": "markdown",
   "metadata": {},
   "source": [
    "# Test NO paramétricos:\n",
    "\n",
    "Son aquellos test que **no** hacen supuestos sobre la distribución de los datos o varianzas iguales. En lugar de ello, `utilizan rangos o posiciones ordenadas` para hacer las comparaciones.\n",
    "\n",
    "![img](img/img5.jpeg)\n",
    "\n",
    "Estos tests son útiles cuando no se cumplen los supuestos requeridos para los tests paramétricos, como la normalidad, la homogeneidad de las varianzas o la independencia de las observaciones."
   ]
  },
  {
   "attachments": {},
   "cell_type": "markdown",
   "metadata": {},
   "source": [
    "Algunos de los *test no paramétricos más comunes* son:\n",
    "\n",
    "- **Prueba U de Mann-Whitney**: se utiliza para comparar las medianas de dos grupos independientes.\n",
    "\n",
    "- **Prueba de Wilcoxon**: se utiliza para comparar las medianas de dos grupos pareados.\n",
    "\n",
    "- **Prueba de Kruskal-Wallis**: se utiliza para comparar las medianas de tres o más grupos independientes.\n",
    "\n",
    "- Prueba de Friedman: se utiliza para comparar las medianas de tres o más grupos pareados.\n",
    "\n",
    "\n",
    "Los test no paramétricos no requieren los mismos supuestos que los test paramétricos, pero aún así tienen ciertas **consideraciones que deben ser tomadas en cuenta** al elegir y realizar la prueba. A continuación, se presentan algunos supuestos necesarios en algunos de los test no paramétricos más comunes:\n",
    "\n",
    "- ***Independencia*** de los grupos comparados\n",
    "\n",
    "- Las muestras se extraen de ***poblaciones*** con la ***misma forma de distribución***\n",
    "\n",
    "- Provienen de poblaciones con ***la misma variabilidad***\n"
   ]
  },
  {
   "attachments": {},
   "cell_type": "markdown",
   "metadata": {},
   "source": [
    "## Prueba U de Mann-Whitney\n",
    "\n",
    "El U-test es una prueba no paramétrica que se utiliza para comparar dos grupos independientes y determinar si las `medianas de ambas muestras son estadísticamente diferentes`.\n",
    "\n",
    "**Hipótesis nula y alternativa:**\n",
    "\n",
    "- H0: las medianas de ambos grupos son iguales\n",
    "\n",
    "- H1: es que las medianas son diferentes\n",
    "\n",
    "**Condiciones:**\n",
    "\n",
    "- Las dos muestras deben ser independientes.\n",
    "\n",
    "- Las variables a comparar son continuas u ordenadas.\n",
    "\n",
    "- Las dos muestras deben ser extraídas de poblaciones con distribuciones de probabilidad similares.\n"
   ]
  },
  {
   "attachments": {},
   "cell_type": "markdown",
   "metadata": {},
   "source": [
    "> Comparar si las propinas dejadas a la hora de comer y a la de cenar difiere\n",
    "\n",
    "- H0: no hay diferencia significativa entre las propinas a la hora de comer con las de la hora de cenar\n",
    "\n",
    "- H1: hay diferencia significativa entre las propinas a la hora de comer con las de la hora de cenar\n"
   ]
  },
  {
   "cell_type": "code",
   "execution_count": 181,
   "metadata": {},
   "outputs": [
    {
     "data": {
      "text/html": [
       "<div>\n",
       "<style scoped>\n",
       "    .dataframe tbody tr th:only-of-type {\n",
       "        vertical-align: middle;\n",
       "    }\n",
       "\n",
       "    .dataframe tbody tr th {\n",
       "        vertical-align: top;\n",
       "    }\n",
       "\n",
       "    .dataframe thead th {\n",
       "        text-align: right;\n",
       "    }\n",
       "</style>\n",
       "<table border=\"1\" class=\"dataframe\">\n",
       "  <thead>\n",
       "    <tr style=\"text-align: right;\">\n",
       "      <th></th>\n",
       "      <th>total_bill</th>\n",
       "      <th>tip</th>\n",
       "      <th>sex</th>\n",
       "      <th>smoker</th>\n",
       "      <th>day</th>\n",
       "      <th>time</th>\n",
       "      <th>size</th>\n",
       "    </tr>\n",
       "  </thead>\n",
       "  <tbody>\n",
       "    <tr>\n",
       "      <th>0</th>\n",
       "      <td>16.99</td>\n",
       "      <td>1.01</td>\n",
       "      <td>Female</td>\n",
       "      <td>No</td>\n",
       "      <td>Sun</td>\n",
       "      <td>Dinner</td>\n",
       "      <td>2</td>\n",
       "    </tr>\n",
       "    <tr>\n",
       "      <th>1</th>\n",
       "      <td>10.34</td>\n",
       "      <td>1.66</td>\n",
       "      <td>Male</td>\n",
       "      <td>No</td>\n",
       "      <td>Sun</td>\n",
       "      <td>Dinner</td>\n",
       "      <td>3</td>\n",
       "    </tr>\n",
       "    <tr>\n",
       "      <th>2</th>\n",
       "      <td>21.01</td>\n",
       "      <td>3.50</td>\n",
       "      <td>Male</td>\n",
       "      <td>No</td>\n",
       "      <td>Sun</td>\n",
       "      <td>Dinner</td>\n",
       "      <td>3</td>\n",
       "    </tr>\n",
       "    <tr>\n",
       "      <th>3</th>\n",
       "      <td>23.68</td>\n",
       "      <td>3.31</td>\n",
       "      <td>Male</td>\n",
       "      <td>No</td>\n",
       "      <td>Sun</td>\n",
       "      <td>Dinner</td>\n",
       "      <td>2</td>\n",
       "    </tr>\n",
       "    <tr>\n",
       "      <th>4</th>\n",
       "      <td>24.59</td>\n",
       "      <td>3.61</td>\n",
       "      <td>Female</td>\n",
       "      <td>No</td>\n",
       "      <td>Sun</td>\n",
       "      <td>Dinner</td>\n",
       "      <td>4</td>\n",
       "    </tr>\n",
       "  </tbody>\n",
       "</table>\n",
       "</div>"
      ],
      "text/plain": [
       "   total_bill   tip     sex smoker  day    time  size\n",
       "0       16.99  1.01  Female     No  Sun  Dinner     2\n",
       "1       10.34  1.66    Male     No  Sun  Dinner     3\n",
       "2       21.01  3.50    Male     No  Sun  Dinner     3\n",
       "3       23.68  3.31    Male     No  Sun  Dinner     2\n",
       "4       24.59  3.61  Female     No  Sun  Dinner     4"
      ]
     },
     "execution_count": 181,
     "metadata": {},
     "output_type": "execute_result"
    }
   ],
   "source": [
    "import seaborn as sns\n",
    "from scipy.stats import mannwhitneyu\n",
    "\n",
    "tips = sns.load_dataset(\"tips\")\n",
    "tips.head()\n"
   ]
  },
  {
   "cell_type": "code",
   "execution_count": 186,
   "metadata": {},
   "outputs": [],
   "source": [
    "propina_almuerzo = tips[tips[\"time\"]==\"Lunch\"][\"tip\"]\n",
    "propina_cena = tips[tips[\"time\"]==\"Dinner\"][\"tip\"]"
   ]
  },
  {
   "cell_type": "code",
   "execution_count": 187,
   "metadata": {},
   "outputs": [
    {
     "data": {
      "text/plain": [
       "<AxesSubplot:xlabel='tip', ylabel='Count'>"
      ]
     },
     "execution_count": 187,
     "metadata": {},
     "output_type": "execute_result"
    },
    {
     "data": {
      "image/png": "[encoded data removed]",
      "text/plain": [
       "<Figure size 432x288 with 1 Axes>"
      ]
     },
     "metadata": {
      "needs_background": "light"
     },
     "output_type": "display_data"
    }
   ],
   "source": [
    "sns.histplot(propina_almuerzo, color='blue', alpha=0.5)\n",
    "sns.histplot(propina_cena, color='red', alpha=0.5)"
   ]
  },
  {
   "cell_type": "code",
   "execution_count": 188,
   "metadata": {},
   "outputs": [
    {
     "name": "stdout",
     "output_type": "stream",
     "text": [
      "Estadístico U:  4905.0\n",
      "P-valor:  0.028828045676793167\n"
     ]
    }
   ],
   "source": [
    "U, p_valor = mannwhitneyu(propina_almuerzo, propina_cena)\n",
    "\n",
    "print(\"Estadístico U: \", U)\n",
    "print(\"P-valor: \", p_valor)"
   ]
  },
  {
   "cell_type": "code",
   "execution_count": 189,
   "metadata": {},
   "outputs": [
    {
     "name": "stdout",
     "output_type": "stream",
     "text": [
      "Rechazar la hipótesis nula: las medianas de ambos grupos son diferentes (p-value: 0.0288)\n"
     ]
    }
   ],
   "source": [
    "# Seleccion del nivel de significancia\n",
    "alpha = 0.05\n",
    "\n",
    "# Decisión en función del p-valor y el nivel de significación\n",
    "if p_valor < alpha:\n",
    "    print(\"Rechazar la hipótesis nula: las medianas de ambos grupos son diferentes (p-value: {:.4f})\".format(p_valor))\n",
    "else:\n",
    "    print(\"No se puede rechazar la hipótesis nula: las medianas de ambos grupos son iguales (p-value: {:.4f})\".format(p_valor))\n"
   ]
  },
  {
   "cell_type": "code",
   "execution_count": 185,
   "metadata": {},
   "outputs": [
    {
     "name": "stdout",
     "output_type": "stream",
     "text": [
      "Estadístico U:  4905.0\n",
      "P-valor:  0.014414022838396583\n",
      "Rechazar la hipótesis nula: las medianas de ambos grupos son diferentes (p-value: 0.0144)\n"
     ]
    }
   ],
   "source": [
    "U, p_valor = mannwhitneyu(propina_almuerzo, propina_cena, alternative='less')\n",
    "\n",
    "print(\"Estadístico U: \", U)\n",
    "print(\"P-valor: \", p_valor)\n",
    "\n",
    "if p_valor < alpha:\n",
    "    print(\"Rechazar la hipótesis nula: las medianas de ambos grupos son diferentes (p-value: {:.4f})\".format(p_valor))\n",
    "else:\n",
    "    print(\"No se puede rechazar la hipótesis nula: las medianas de ambos grupos son iguales (p-value: {:.4f})\".format(p_valor))\n"
   ]
  },
  {
   "attachments": {},
   "cell_type": "markdown",
   "metadata": {},
   "source": [
    "> Propuesta: comparar si las propinas dejadas por hombres y mujeres difiere\n",
    "\n",
    "- H0: no hay diferencia significativa entre las propinas dejadas por hombre en comparación con las dejadas por mujeres\n",
    "\n",
    "- H1: hay diferencia significativa entre las propinas dejadas por hombre en comparación con las dejadas por mujeres"
   ]
  },
  {
   "cell_type": "code",
   "execution_count": 2,
   "metadata": {},
   "outputs": [],
   "source": [
    "import seaborn as sns\n",
    "from scipy.stats import mannwhitneyu\n",
    "\n",
    "tips = sns.load_dataset(\"tips\")"
   ]
  },
  {
   "cell_type": "code",
   "execution_count": 3,
   "metadata": {},
   "outputs": [
    {
     "data": {
      "text/html": [
       "<div>\n",
       "<style scoped>\n",
       "    .dataframe tbody tr th:only-of-type {\n",
       "        vertical-align: middle;\n",
       "    }\n",
       "\n",
       "    .dataframe tbody tr th {\n",
       "        vertical-align: top;\n",
       "    }\n",
       "\n",
       "    .dataframe thead th {\n",
       "        text-align: right;\n",
       "    }\n",
       "</style>\n",
       "<table border=\"1\" class=\"dataframe\">\n",
       "  <thead>\n",
       "    <tr style=\"text-align: right;\">\n",
       "      <th></th>\n",
       "      <th>total_bill</th>\n",
       "      <th>tip</th>\n",
       "      <th>sex</th>\n",
       "      <th>smoker</th>\n",
       "      <th>day</th>\n",
       "      <th>time</th>\n",
       "      <th>size</th>\n",
       "    </tr>\n",
       "  </thead>\n",
       "  <tbody>\n",
       "    <tr>\n",
       "      <th>0</th>\n",
       "      <td>16.99</td>\n",
       "      <td>1.01</td>\n",
       "      <td>Female</td>\n",
       "      <td>No</td>\n",
       "      <td>Sun</td>\n",
       "      <td>Dinner</td>\n",
       "      <td>2</td>\n",
       "    </tr>\n",
       "    <tr>\n",
       "      <th>1</th>\n",
       "      <td>10.34</td>\n",
       "      <td>1.66</td>\n",
       "      <td>Male</td>\n",
       "      <td>No</td>\n",
       "      <td>Sun</td>\n",
       "      <td>Dinner</td>\n",
       "      <td>3</td>\n",
       "    </tr>\n",
       "    <tr>\n",
       "      <th>2</th>\n",
       "      <td>21.01</td>\n",
       "      <td>3.50</td>\n",
       "      <td>Male</td>\n",
       "      <td>No</td>\n",
       "      <td>Sun</td>\n",
       "      <td>Dinner</td>\n",
       "      <td>3</td>\n",
       "    </tr>\n",
       "    <tr>\n",
       "      <th>3</th>\n",
       "      <td>23.68</td>\n",
       "      <td>3.31</td>\n",
       "      <td>Male</td>\n",
       "      <td>No</td>\n",
       "      <td>Sun</td>\n",
       "      <td>Dinner</td>\n",
       "      <td>2</td>\n",
       "    </tr>\n",
       "    <tr>\n",
       "      <th>4</th>\n",
       "      <td>24.59</td>\n",
       "      <td>3.61</td>\n",
       "      <td>Female</td>\n",
       "      <td>No</td>\n",
       "      <td>Sun</td>\n",
       "      <td>Dinner</td>\n",
       "      <td>4</td>\n",
       "    </tr>\n",
       "  </tbody>\n",
       "</table>\n",
       "</div>"
      ],
      "text/plain": [
       "   total_bill   tip     sex smoker  day    time  size\n",
       "0       16.99  1.01  Female     No  Sun  Dinner     2\n",
       "1       10.34  1.66    Male     No  Sun  Dinner     3\n",
       "2       21.01  3.50    Male     No  Sun  Dinner     3\n",
       "3       23.68  3.31    Male     No  Sun  Dinner     2\n",
       "4       24.59  3.61  Female     No  Sun  Dinner     4"
      ]
     },
     "execution_count": 3,
     "metadata": {},
     "output_type": "execute_result"
    }
   ],
   "source": [
    "tips.head()"
   ]
  },
  {
   "cell_type": "code",
   "execution_count": null,
   "metadata": {},
   "outputs": [],
   "source": [
    "# Codigo propuesta"
   ]
  },
  {
   "attachments": {},
   "cell_type": "markdown",
   "metadata": {},
   "source": [
    "## Prueba de Wilcoxon\n",
    "\n",
    "Es una prueba no paramétrica que se utiliza para comparar `dos muestras relacionadas` o medidas repetidas en la misma unidad experimental.\n",
    "\n",
    "**Hipótesis nula y alternativa:**\n",
    "\n",
    "- H0: no hay diferencia significativa entre las medianas de las dos muestras relacionadas.\n",
    "\n",
    "- H1: hay diferencia significativa entre las medianas de las dos muestras relacionadas.\n",
    "\n",
    "**Condiciones:**\n",
    "\n",
    "- Los datos deben ser pareados o relacionados.\n",
    "\n",
    "- Los datos deben ser medidos en una escala ordinal, intervalar o de razón.\n",
    "\n",
    "- Los pares de datos deben ser independientes entre sí."
   ]
  },
  {
   "attachments": {},
   "cell_type": "markdown",
   "metadata": {},
   "source": [
    "> Comparar si los diamantes tienen mayor precio si se corta de una forma u otra\n",
    "\n",
    "- HO: La mediana de las medidas del precio del diamante son iguales.\n",
    "\n",
    "- H1: La mediana de las medidas del precio del diamante difiere significativamente."
   ]
  },
  {
   "cell_type": "code",
   "execution_count": null,
   "metadata": {},
   "outputs": [],
   "source": [
    "import seaborn as sns\n",
    "import random\n",
    "import numpy as np\n",
    "from scipy.stats import wilcoxon"
   ]
  },
  {
   "cell_type": "code",
   "execution_count": 170,
   "metadata": {},
   "outputs": [],
   "source": [
    "diamantes = sns.load_dataset('diamonds')\n",
    "diamantes_fair = diamantes[diamantes.cut == 'Fair']['price']\n",
    "diamantes_good = diamantes[diamantes.cut == 'Good']['price'][:len(diamantes_fair)]"
   ]
  },
  {
   "cell_type": "code",
   "execution_count": 171,
   "metadata": {},
   "outputs": [
    {
     "data": {
      "text/plain": [
       "True"
      ]
     },
     "execution_count": 171,
     "metadata": {},
     "output_type": "execute_result"
    }
   ],
   "source": [
    "len(diamantes_fair)==len(diamantes_good)"
   ]
  },
  {
   "cell_type": "code",
   "execution_count": 172,
   "metadata": {},
   "outputs": [
    {
     "data": {
      "text/plain": [
       "<AxesSubplot:xlabel='price', ylabel='Count'>"
      ]
     },
     "execution_count": 172,
     "metadata": {},
     "output_type": "execute_result"
    },
    {
     "data": {
      "image/png": "[encoded data removed]",
      "text/plain": [
       "<Figure size 432x288 with 1 Axes>"
      ]
     },
     "metadata": {
      "needs_background": "light"
     },
     "output_type": "display_data"
    }
   ],
   "source": [
    "sns.histplot(diamantes_fair, color='blue', alpha=0.5)\n",
    "sns.histplot(diamantes_good, color='red', alpha=0.5)"
   ]
  },
  {
   "cell_type": "code",
   "execution_count": 173,
   "metadata": {},
   "outputs": [
    {
     "name": "stdout",
     "output_type": "stream",
     "text": [
      "Estadístico:  585198.5\n",
      "P-valor:  0.0007015921176411246\n"
     ]
    }
   ],
   "source": [
    "stat,p_valor = wilcoxon(diamantes_fair, diamantes_good,alternative=\"two-sided\")\n",
    "print(\"Estadístico: \", stat)\n",
    "print(\"P-valor: \", p_valor)"
   ]
  },
  {
   "cell_type": "code",
   "execution_count": 174,
   "metadata": {},
   "outputs": [
    {
     "name": "stdout",
     "output_type": "stream",
     "text": [
      "Rechazar la hipótesis nula: las medianas de ambos grupos son diferentes (p-value: 0.0007)\n"
     ]
    }
   ],
   "source": [
    "# Seleccion del nivel de significancia\n",
    "alpha = 0.05\n",
    "\n",
    "# Decisión en función del p-valor y el nivel de significación\n",
    "if p_valor < alpha:\n",
    "    print(\"Rechazar la hipótesis nula: las medianas de ambos grupos son diferentes (p-value: {:.4f})\".format(p_valor))\n",
    "else:\n",
    "    print(\"No se puede rechazar la hipótesis nula: las medianas de ambos grupos son iguales (p-value: {:.4f})\".format(p_valor))\n"
   ]
  },
  {
   "attachments": {},
   "cell_type": "markdown",
   "metadata": {},
   "source": [
    "> Propuesta: comparar si la longitud de los sépalos se ve afectado de manera significativa después de un tratamiento aplicado\n",
    "\n",
    "- HO: La mediana de las medidas de la longitud de los sépalos antes del tratamiento es igual a la mediana de las medidas después del tratamiento.\n",
    "\n",
    "- H1: La mediana de las medidas de la `longitud de los sépalos después del tratamiento es mayor que la mediana de las medidas antes del tratamiento`."
   ]
  },
  {
   "cell_type": "code",
   "execution_count": null,
   "metadata": {},
   "outputs": [],
   "source": [
    "import seaborn as sns\n",
    "import random\n",
    "import numpy as np\n",
    "from scipy.stats import wilcoxon"
   ]
  },
  {
   "cell_type": "code",
   "execution_count": null,
   "metadata": {},
   "outputs": [],
   "source": [
    "iris = sns.load_dataset('iris')"
   ]
  },
  {
   "cell_type": "code",
   "execution_count": null,
   "metadata": {},
   "outputs": [
    {
     "data": {
      "text/html": [
       "<div>\n",
       "<style scoped>\n",
       "    .dataframe tbody tr th:only-of-type {\n",
       "        vertical-align: middle;\n",
       "    }\n",
       "\n",
       "    .dataframe tbody tr th {\n",
       "        vertical-align: top;\n",
       "    }\n",
       "\n",
       "    .dataframe thead th {\n",
       "        text-align: right;\n",
       "    }\n",
       "</style>\n",
       "<table border=\"1\" class=\"dataframe\">\n",
       "  <thead>\n",
       "    <tr style=\"text-align: right;\">\n",
       "      <th></th>\n",
       "      <th>sepal_length</th>\n",
       "      <th>sepal_width</th>\n",
       "      <th>petal_length</th>\n",
       "      <th>petal_width</th>\n",
       "      <th>species</th>\n",
       "    </tr>\n",
       "  </thead>\n",
       "  <tbody>\n",
       "    <tr>\n",
       "      <th>0</th>\n",
       "      <td>5.1</td>\n",
       "      <td>3.5</td>\n",
       "      <td>1.4</td>\n",
       "      <td>0.2</td>\n",
       "      <td>setosa</td>\n",
       "    </tr>\n",
       "    <tr>\n",
       "      <th>1</th>\n",
       "      <td>4.9</td>\n",
       "      <td>3.0</td>\n",
       "      <td>1.4</td>\n",
       "      <td>0.2</td>\n",
       "      <td>setosa</td>\n",
       "    </tr>\n",
       "    <tr>\n",
       "      <th>2</th>\n",
       "      <td>4.7</td>\n",
       "      <td>3.2</td>\n",
       "      <td>1.3</td>\n",
       "      <td>0.2</td>\n",
       "      <td>setosa</td>\n",
       "    </tr>\n",
       "    <tr>\n",
       "      <th>3</th>\n",
       "      <td>4.6</td>\n",
       "      <td>3.1</td>\n",
       "      <td>1.5</td>\n",
       "      <td>0.2</td>\n",
       "      <td>setosa</td>\n",
       "    </tr>\n",
       "    <tr>\n",
       "      <th>4</th>\n",
       "      <td>5.0</td>\n",
       "      <td>3.6</td>\n",
       "      <td>1.4</td>\n",
       "      <td>0.2</td>\n",
       "      <td>setosa</td>\n",
       "    </tr>\n",
       "  </tbody>\n",
       "</table>\n",
       "</div>"
      ],
      "text/plain": [
       "   sepal_length  sepal_width  petal_length  petal_width species\n",
       "0           5.1          3.5           1.4          0.2  setosa\n",
       "1           4.9          3.0           1.4          0.2  setosa\n",
       "2           4.7          3.2           1.3          0.2  setosa\n",
       "3           4.6          3.1           1.5          0.2  setosa\n",
       "4           5.0          3.6           1.4          0.2  setosa"
      ]
     },
     "metadata": {},
     "output_type": "display_data"
    }
   ],
   "source": [
    "iris.head()"
   ]
  },
  {
   "cell_type": "code",
   "execution_count": null,
   "metadata": {},
   "outputs": [],
   "source": [
    "setosa = iris.loc[iris.species=='setosa']\n",
    "\n",
    "sepalo_antes = iris.sepal_length.values\n",
    "\n",
    "sepalo_despues = [random.gauss(5.6, 6.3) for i in range(len(sepalo_antes))]"
   ]
  },
  {
   "cell_type": "code",
   "execution_count": null,
   "metadata": {},
   "outputs": [
    {
     "data": {
      "text/plain": [
       "True"
      ]
     },
     "metadata": {},
     "output_type": "display_data"
    }
   ],
   "source": [
    "len(sepalo_antes)==len(sepalo_despues)"
   ]
  },
  {
   "cell_type": "code",
   "execution_count": 190,
   "metadata": {},
   "outputs": [],
   "source": [
    "# Codigo propuesta"
   ]
  },
  {
   "attachments": {},
   "cell_type": "markdown",
   "metadata": {},
   "source": [
    "## Prueba de Kruskal-Wallis\n",
    "\n",
    "La prueba de Kruskal-Wallis se utiliza para `comparar la distribución de dos o más muestras independientes de datos ordinales o continuos no paramétricos`.\n",
    "\n",
    "**Hipótesis nula y alternativa:**\n",
    "\n",
    "- H0: no hay diferencia significativa entre las medianas de los grupos.\n",
    "\n",
    "- H1: al menos hay una mediana que es significativamente diferente de las demás.\n",
    "\n",
    "**Condiciones:**\n",
    "\n",
    "- Los datos deben ser independientes entre sí.\n",
    "\n",
    "- Los datos deben ser ordinales o continuos no paramétricos.\n",
    "\n",
    "- El número de observaciones debe ser suficientemente grande para permitir una evaluación precisa.\n"
   ]
  },
  {
   "attachments": {},
   "cell_type": "markdown",
   "metadata": {},
   "source": [
    "> Comparar si los diamantes tienen distinto precio según su corte\n",
    "\n",
    "- HO: La mediana de las medidas del precio del diamante son iguales.\n",
    "\n",
    "- H1: La mediana de las medidas del precio del diamante difiere significativamente."
   ]
  },
  {
   "cell_type": "code",
   "execution_count": 193,
   "metadata": {},
   "outputs": [],
   "source": [
    "import seaborn as sns\n",
    "import random\n",
    "import numpy as np\n",
    "from scipy.stats import kruskal"
   ]
  },
  {
   "cell_type": "code",
   "execution_count": 197,
   "metadata": {},
   "outputs": [],
   "source": [
    "diamantes = sns.load_dataset('diamonds')"
   ]
  },
  {
   "cell_type": "code",
   "execution_count": 215,
   "metadata": {},
   "outputs": [
    {
     "name": "stdout",
     "output_type": "stream",
     "text": [
      "Estadístico:  978.6208219359503\n",
      "P-valor:  1.533414952159139e-210\n"
     ]
    }
   ],
   "source": [
    "stat, p_valor = kruskal(diamantes[\"price\"][diamantes[\"cut\"] == \"Ideal\"], \n",
    "                        diamantes[\"price\"][diamantes[\"cut\"] == \"Premium\"], \n",
    "                        diamantes[\"price\"][diamantes[\"cut\"] == \"Very Good\"], \n",
    "                        diamantes[\"price\"][diamantes[\"cut\"] == \"Good\"], \n",
    "                        diamantes[\"price\"][diamantes[\"cut\"] == \"Fair\"])\n",
    "\n",
    "print(\"Estadístico: \", stat)\n",
    "print(\"P-valor: \", p_valor)"
   ]
  },
  {
   "cell_type": "code",
   "execution_count": 216,
   "metadata": {},
   "outputs": [
    {
     "name": "stdout",
     "output_type": "stream",
     "text": [
      "Rechazar la hipótesis nula: las medianas de ambos grupos son diferentes (p-value: 0.0000)\n"
     ]
    }
   ],
   "source": [
    "# Seleccion del nivel de significancia\n",
    "alpha = 0.05\n",
    "\n",
    "# Decisión en función del p-valor y el nivel de significación\n",
    "if p_valor < alpha:\n",
    "    print(\"Rechazar la hipótesis nula: las medianas de ambos grupos son diferentes (p-value: {:.4f})\".format(p_valor))\n",
    "else:\n",
    "    print(\"No se puede rechazar la hipótesis nula: las medianas de ambos grupos son iguales (p-value: {:.4f})\".format(p_valor))\n"
   ]
  },
  {
   "attachments": {},
   "cell_type": "markdown",
   "metadata": {},
   "source": [
    "## Chi cuadrado"
   ]
  },
  {
   "attachments": {},
   "cell_type": "markdown",
   "metadata": {},
   "source": [
    "La prueba chi-cuadrado se utiliza para evaluar si hay una `asociación entre dos variables categóricas`. Para poder realizar esta prueba, es necesario que los datos estén en forma de tabla de contingencia, es decir, una tabla que muestra la frecuencia de cada combinación posible de las dos variables categóricas.\n",
    "\n",
    "Además, se deben cumplir las siguientes *condiciones*:\n",
    "\n",
    "- Las observaciones deben ser **independientes** entre sí.\n",
    "\n",
    "- La muestra debe ser **aleatoria**.\n",
    "\n",
    "- El **tamaño de la muestra** debe ser suficientemente grande para que las frecuencias esperadas sean al menos 5 en la mayoría de las celdas de la tabla de contingencia.\n",
    "\n",
    "Si se cumplen estas condiciones, se puede realizar la prueba chi-cuadrado para evaluar si existe una asociación estadísticamente significativa entre las dos variables categóricas."
   ]
  },
  {
   "attachments": {},
   "cell_type": "markdown",
   "metadata": {},
   "source": [
    "### Prueba de independencia chi-cuadrado:"
   ]
  },
  {
   "cell_type": "code",
   "execution_count": 1,
   "metadata": {},
   "outputs": [],
   "source": [
    "import numpy as np\n",
    "import pandas as pd\n",
    "import seaborn as sns\n",
    "from scipy.stats import chi2_contingency\n",
    "\n",
    "penguins = sns.load_dataset(\"penguins\").dropna()\n",
    "cross_tab = pd.crosstab(index = penguins.species, columns=penguins.sex)\n",
    "cross_tab_matrix = np.array(cross_tab)"
   ]
  },
  {
   "cell_type": "code",
   "execution_count": 2,
   "metadata": {},
   "outputs": [
    {
     "data": {
      "text/html": [
       "<div>\n",
       "<style scoped>\n",
       "    .dataframe tbody tr th:only-of-type {\n",
       "        vertical-align: middle;\n",
       "    }\n",
       "\n",
       "    .dataframe tbody tr th {\n",
       "        vertical-align: top;\n",
       "    }\n",
       "\n",
       "    .dataframe thead th {\n",
       "        text-align: right;\n",
       "    }\n",
       "</style>\n",
       "<table border=\"1\" class=\"dataframe\">\n",
       "  <thead>\n",
       "    <tr style=\"text-align: right;\">\n",
       "      <th>sex</th>\n",
       "      <th>Female</th>\n",
       "      <th>Male</th>\n",
       "    </tr>\n",
       "    <tr>\n",
       "      <th>species</th>\n",
       "      <th></th>\n",
       "      <th></th>\n",
       "    </tr>\n",
       "  </thead>\n",
       "  <tbody>\n",
       "    <tr>\n",
       "      <th>Adelie</th>\n",
       "      <td>73</td>\n",
       "      <td>73</td>\n",
       "    </tr>\n",
       "    <tr>\n",
       "      <th>Chinstrap</th>\n",
       "      <td>34</td>\n",
       "      <td>34</td>\n",
       "    </tr>\n",
       "    <tr>\n",
       "      <th>Gentoo</th>\n",
       "      <td>58</td>\n",
       "      <td>61</td>\n",
       "    </tr>\n",
       "  </tbody>\n",
       "</table>\n",
       "</div>"
      ],
      "text/plain": [
       "sex        Female  Male\n",
       "species                \n",
       "Adelie         73    73\n",
       "Chinstrap      34    34\n",
       "Gentoo         58    61"
      ]
     },
     "execution_count": 2,
     "metadata": {},
     "output_type": "execute_result"
    }
   ],
   "source": [
    "cross_tab"
   ]
  },
  {
   "cell_type": "code",
   "execution_count": 3,
   "metadata": {},
   "outputs": [
    {
     "name": "stdout",
     "output_type": "stream",
     "text": [
      "Estadístico chi-cuadrado: 0.04860717014078318\n",
      "Valor p: 0.9759893689765846\n",
      "Grados de libertad: 2\n",
      "Tabla de frecuencias esperadas:\n",
      " [[72.34234234 73.65765766]\n",
      " [33.69369369 34.30630631]\n",
      " [58.96396396 60.03603604]]\n"
     ]
    }
   ],
   "source": [
    "# Realizar la prueba chi-cuadrado\n",
    "estadistico, p_valor, grados_libertad, esperados = chi2_contingency(cross_tab_matrix)\n",
    "\n",
    "# Mostrar los resultados\n",
    "print(\"Estadístico chi-cuadrado:\", estadistico)\n",
    "print(\"Valor p:\", p_valor)\n",
    "print(\"Grados de libertad:\", grados_libertad)\n",
    "print(\"Tabla de frecuencias esperadas:\\n\", esperados)"
   ]
  },
  {
   "cell_type": "code",
   "execution_count": 7,
   "metadata": {},
   "outputs": [
    {
     "name": "stdout",
     "output_type": "stream",
     "text": [
      "No se puede rechazar la hipótesis nula: no hay diferencia significativa entre las frecuencias esperadas y las observadas en las tablas de contingencia.\n"
     ]
    }
   ],
   "source": [
    "# Seleccionamos el grado de significancia\n",
    "alpha = 0.05\n",
    "\n",
    "# Evaluación de p-valor en función del nivel de significación elegido\n",
    "if p_valor < alpha:\n",
    "    print(\"Rechazar la hipótesis nula: no hay diferencia significativa entre las frecuencias esperadas y las observadas en las tablas de contingencia.\")\n",
    "else:\n",
    "    print(\"No se puede rechazar la hipótesis nula: no hay diferencia significativa entre las frecuencias esperadas y las observadas en las tablas de contingencia.\")\n"
   ]
  },
  {
   "attachments": {},
   "cell_type": "markdown",
   "metadata": {},
   "source": [
    "### Prueba de bondad del ajuste chi-cuadrado:"
   ]
  },
  {
   "cell_type": "code",
   "execution_count": 8,
   "metadata": {},
   "outputs": [
    {
     "name": "stdout",
     "output_type": "stream",
     "text": [
      "Estadístico de prueba: 0.02702702702702703\n",
      "p-valor: 0.8694170607412391\n"
     ]
    }
   ],
   "source": [
    "import seaborn as sns\n",
    "from scipy.stats import chisquare\n",
    "\n",
    "# Cargamos el dataset de los pingüinos\n",
    "df = sns.load_dataset('penguins')\n",
    "\n",
    "# Contamos el número de machos y hembras\n",
    "n_machos = df['sex'].value_counts()[0]\n",
    "n_hembras = df['sex'].value_counts()[1]\n",
    "\n",
    "# Calculamos la proporción de machos y hembras esperada bajo una distribución aleatoria\n",
    "proporcion_aleatoria = 0.5\n",
    "n_total = n_machos + n_hembras\n",
    "n_aleatoria_machos = n_total * proporcion_aleatoria\n",
    "n_aleatoria_hembras = n_total * (1 - proporcion_aleatoria)\n",
    "\n",
    "# Realizamos la prueba de bondad de ajuste chi-cuadrado\n",
    "observados = [n_machos, n_hembras]\n",
    "esperados = [n_aleatoria_machos, n_aleatoria_hembras]\n",
    "estadistico, p_valor = chisquare(observados, f_exp=esperados)\n",
    "\n",
    "print('Estadístico de prueba:', estadistico)\n",
    "print('p-valor:', p_valor)"
   ]
  },
  {
   "cell_type": "code",
   "execution_count": 10,
   "metadata": {},
   "outputs": [
    {
     "name": "stdout",
     "output_type": "stream",
     "text": [
      "No se puede rechazar la hipótesis nula: la proporción de sexos es la misma que la esperada bajo una distribución aleatoria.\n"
     ]
    }
   ],
   "source": [
    "# Seleccionamos el grado de significancia\n",
    "alpha = 0.05\n",
    "\n",
    "# Evaluación de p-valor en función del nivel de significación elegido\n",
    "if p_valor < alpha:\n",
    "    print(\"Rechazar la hipótesis nula: la proporción de sexos NO es la misma que la esperada bajo una distribución aleatoria\")\n",
    "else:\n",
    "    print(\"No se puede rechazar la hipótesis nula: la proporción de sexos es la misma que la esperada bajo una distribución aleatoria.\")\n"
   ]
  }
 ],
 "metadata": {
  "kernelspec": {
   "display_name": "the_bridge_ds",
   "language": "python",
   "name": "python3"
  },
  "language_info": {
   "codemirror_mode": {
    "name": "ipython",
    "version": 3
   },
   "file_extension": ".py",
   "mimetype": "text/x-python",
   "name": "python",
   "nbconvert_exporter": "python",
   "pygments_lexer": "ipython3",
   "version": "3.9.12"
  },
  "orig_nbformat": 4
 },
 "nbformat": 4,
 "nbformat_minor": 2
}
